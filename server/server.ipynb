{
 "cells": [
  {
   "cell_type": "code",
   "execution_count": null,
   "id": "c14eb2ef",
   "metadata": {},
   "outputs": [
    {
     "name": "stdout",
     "output_type": "stream",
     "text": [
      "Starting Python Flask Server For Sports Celebrity Image Classification\n",
      "loading saved artifacts...start\n",
      "loading saved artifacts...done\n",
      " * Serving Flask app \"__main__\" (lazy loading)\n",
      " * Environment: production\n",
      "\u001b[31m   WARNING: This is a development server. Do not use it in a production deployment.\u001b[0m\n",
      "\u001b[2m   Use a production WSGI server instead.\u001b[0m\n",
      " * Debug mode: off\n"
     ]
    },
    {
     "name": "stderr",
     "output_type": "stream",
     "text": [
      " * Running on http://127.0.0.1:5000/ (Press CTRL+C to quit)\n",
      "127.0.0.1 - - [25/Jan/2023 13:29:22] \"POST /classify_image HTTP/1.1\" 400 -\n",
      "127.0.0.1 - - [25/Jan/2023 13:29:24] \"POST /classify_image HTTP/1.1\" 400 -\n",
      "127.0.0.1 - - [25/Jan/2023 13:29:25] \"POST /classify_image HTTP/1.1\" 400 -\n",
      "127.0.0.1 - - [25/Jan/2023 13:29:25] \"POST /classify_image HTTP/1.1\" 400 -\n",
      "127.0.0.1 - - [25/Jan/2023 13:29:26] \"POST /classify_image HTTP/1.1\" 400 -\n",
      "127.0.0.1 - - [25/Jan/2023 13:29:27] \"POST /classify_image HTTP/1.1\" 400 -\n",
      "127.0.0.1 - - [25/Jan/2023 13:29:28] \"POST /classify_image HTTP/1.1\" 400 -\n",
      "127.0.0.1 - - [25/Jan/2023 13:29:36] \"POST /classify_image HTTP/1.1\" 400 -\n",
      "127.0.0.1 - - [25/Jan/2023 13:35:11] \"POST /classify_image HTTP/1.1\" 400 -\n"
     ]
    }
   ],
   "source": [
    "from flask import Flask,request,jsonify\n",
    "import util\n",
    "app= Flask(__name__)\n",
    "\n",
    "@app.route(\"/classify_image\",methods=['GET','POST'])\n",
    "def classify_image():\n",
    "    image_data=request.form['image_data']\n",
    "    response=jsonify(util.classify_image(image_data))\n",
    "    response.headers.add('Access-Control-Allow-Origin','*')\n",
    "    return response\n",
    "\n",
    "if __name__=='__main__':\n",
    "    print(\"Starting Python Flask Server For Sports Celebrity Image Classification\")\n",
    "    util.load_saved_artifacts()\n",
    "    app.run(port=5000)\n",
    "    \n",
    "\n",
    "    "
   ]
  },
  {
   "cell_type": "code",
   "execution_count": null,
   "id": "42afdccf",
   "metadata": {},
   "outputs": [],
   "source": []
  },
  {
   "cell_type": "code",
   "execution_count": null,
   "id": "69cf7ebd",
   "metadata": {},
   "outputs": [],
   "source": []
  },
  {
   "cell_type": "code",
   "execution_count": null,
   "id": "b8c7d252",
   "metadata": {},
   "outputs": [],
   "source": []
  },
  {
   "cell_type": "code",
   "execution_count": null,
   "id": "ccda244e",
   "metadata": {},
   "outputs": [],
   "source": []
  },
  {
   "cell_type": "code",
   "execution_count": null,
   "id": "c7daf3b4",
   "metadata": {},
   "outputs": [],
   "source": []
  },
  {
   "cell_type": "code",
   "execution_count": null,
   "id": "8598a8cc",
   "metadata": {},
   "outputs": [],
   "source": []
  }
 ],
 "metadata": {
  "kernelspec": {
   "display_name": "Python 3 (ipykernel)",
   "language": "python",
   "name": "python3"
  },
  "language_info": {
   "codemirror_mode": {
    "name": "ipython",
    "version": 3
   },
   "file_extension": ".py",
   "mimetype": "text/x-python",
   "name": "python",
   "nbconvert_exporter": "python",
   "pygments_lexer": "ipython3",
   "version": "3.9.15"
  }
 },
 "nbformat": 4,
 "nbformat_minor": 5
}
